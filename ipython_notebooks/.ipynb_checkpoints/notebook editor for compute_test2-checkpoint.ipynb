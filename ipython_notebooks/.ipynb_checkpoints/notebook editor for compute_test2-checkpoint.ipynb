{
  "nbformat": 4,
  "nbformat_minor": 0,
  "metadata": {
    "kernelspec": {
      "display_name": "Python in CPU-M-1-cpu-4Gb-Ram (builtin env)",
      "language": "python",
      "name": "py-dku-containerized-venv--cpu-m-1-cpu-4gb-ram"
    },
    "associatedRecipe": "compute_test2",
    "creator": "ds5387391@gmail.com",
    "createdOn": 1698314569948,
    "tags": [
      "recipe-editor"
    ],
    "customFields": {}
  },
  "cells": [
    {
      "cell_type": "code",
      "metadata": {},
      "outputs": [],
      "execution_count": 0,
      "source": [
        "# -*- coding: utf-8 -*-\n",
        "import dataiku\n",
        "import pandas as pd, numpy as np\n",
        "from dataiku import pandasutils as pdu\n",
        "\n",
        "# Read recipe inputs\n",
        "Sept_Task \u003d dataiku.Dataset(\"Sept_Task\")\n",
        "Sept_Task_df \u003d Sept_Task.get_dataframe()\n",
        "\n",
        "\n",
        "# Compute recipe outputs from inputs\n",
        "# TODO: Replace this part by your actual code that computes the output, as a Pandas dataframe\n",
        "# NB: DSS also supports other kinds of APIs for reading and writing data. Please see doc.\n",
        "\n",
        "test2_df \u003d Sept_Task_df # For this sample code, simply copy input to output\n",
        "\n",
        "\n",
        "\n",
        "\n",
        "# Mohd Shahid bhaiiiiiiiiiiiiiiiiiiiiiiiiiiiiiii\n",
        "\n",
        "\n",
        "\n",
        "\n",
        "\n",
        "\n",
        "# Write recipe outputs\n",
        "test2 \u003d dataiku.Dataset(\"test2\")\n",
        "test2.write_with_schema(test2_df)"
      ]
    }
  ]
}