{
  "metadata": {
    "kernelspec": {
      "name": "py-dku-containerized-venv--cpu-m-1-cpu-4gb-ram",
      "display_name": "Python in CPU-M-1-cpu-4Gb-Ram (builtin env)",
      "language": "python"
    },
    "hide_input": false,
    "associatedRecipe": "compute_test2",
    "tags": [
      "recipe-editor"
    ],
    "customFields": {},
    "creator": "ds5387391@gmail.com",
    "createdOn": 1698314569948,
    "modifiedBy": "ds5387391@gmail.com"
  },
  "nbformat": 4,
  "nbformat_minor": 1,
  "cells": [
    {
      "execution_count": 0,
      "cell_type": "code",
      "metadata": {},
      "source": [
        "# -*- coding: utf-8 -*-\nimport dataiku\nimport pandas as pd, numpy as np\nfrom dataiku import pandasutils as pdu\n\n# Read recipe inputs\nSept_Task \u003d dataiku.Dataset(\"Sept_Task\")\nSept_Task_df \u003d Sept_Task.get_dataframe()\n\n\n# Compute recipe outputs from inputs\n# TODO: Replace this part by your actual code that computes the output, as a Pandas dataframe\n# NB: DSS also supports other kinds of APIs for reading and writing data. Please see doc.\n\ntest2_df \u003d Sept_Task_df # For this sample code, simply copy input to output\n\n\n\n\n# Mohd Shahid bhaiiiiiiiiiiiiiiiiiiiiiiiiiiiiiii\n\n\n\n\n\n\n# Write recipe outputs\ntest2 \u003d dataiku.Dataset(\"test2\")\ntest2.write_with_schema(test2_df)"
      ],
      "outputs": []
    }
  ]
}